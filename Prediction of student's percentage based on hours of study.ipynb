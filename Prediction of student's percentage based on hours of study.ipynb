{
 "cells": [
  {
   "cell_type": "markdown",
   "id": "hollow-danish",
   "metadata": {},
   "source": [
    "# GRIP @ The Sparks Foundation  \n",
    "\n"
   ]
  },
  {
   "cell_type": "markdown",
   "id": "fitting-swiss",
   "metadata": {},
   "source": [
    "# TASK 1 : PREDICTION USING SUPERVISED ML"
   ]
  },
  {
   "cell_type": "markdown",
   "id": "round-words",
   "metadata": {},
   "source": [
    "# PROBLEM STATEMENT : Prediction of percentage of a student based on number of study hours using linear regression.\n"
   ]
  },
  {
   "cell_type": "markdown",
   "id": "gorgeous-wednesday",
   "metadata": {},
   "source": [
    "DATASET LINK : http://bit.ly/w-data"
   ]
  },
  {
   "cell_type": "code",
   "execution_count": 109,
   "id": "after-princess",
   "metadata": {
    "scrolled": true
   },
   "outputs": [],
   "source": [
    "# Importing libraries\n",
    "library(dplyr)\n",
    "library(ggplot2)"
   ]
  },
  {
   "cell_type": "code",
   "execution_count": 110,
   "id": "disturbed-geneva",
   "metadata": {
    "scrolled": false
   },
   "outputs": [
    {
     "name": "stdout",
     "output_type": "stream",
     "text": [
      "Observations: 25\n",
      "Variables: 2\n",
      "$ Hours  <dbl> 2.5, 5.1, 3.2, 8.5, 3.5, 1.5, 9.2, 5.5, 8.3, 2.7, 7.7, 5.9, ...\n",
      "$ Scores <int> 21, 47, 27, 75, 30, 20, 88, 60, 81, 25, 85, 62, 41, 42, 17, ...\n"
     ]
    }
   ],
   "source": [
    "# Import the dataset\n",
    "student <- read.csv(\"dataset.csv\")\n",
    "glimpse(student)"
   ]
  },
  {
   "cell_type": "code",
   "execution_count": 111,
   "id": "modern-winning",
   "metadata": {
    "scrolled": true
   },
   "outputs": [
    {
     "data": {
      "text/html": [
       "<table>\n",
       "<thead><tr><th scope=col>Hours</th><th scope=col>Scores</th></tr></thead>\n",
       "<tbody>\n",
       "\t<tr><td>2.5</td><td>21 </td></tr>\n",
       "\t<tr><td>5.1</td><td>47 </td></tr>\n",
       "\t<tr><td>3.2</td><td>27 </td></tr>\n",
       "\t<tr><td>8.5</td><td>75 </td></tr>\n",
       "\t<tr><td>3.5</td><td>30 </td></tr>\n",
       "\t<tr><td>1.5</td><td>20 </td></tr>\n",
       "\t<tr><td>9.2</td><td>88 </td></tr>\n",
       "\t<tr><td>5.5</td><td>60 </td></tr>\n",
       "\t<tr><td>8.3</td><td>81 </td></tr>\n",
       "\t<tr><td>2.7</td><td>25 </td></tr>\n",
       "\t<tr><td>7.7</td><td>85 </td></tr>\n",
       "\t<tr><td>5.9</td><td>62 </td></tr>\n",
       "\t<tr><td>4.5</td><td>41 </td></tr>\n",
       "\t<tr><td>3.3</td><td>42 </td></tr>\n",
       "\t<tr><td>1.1</td><td>17 </td></tr>\n",
       "\t<tr><td>8.9</td><td>95 </td></tr>\n",
       "\t<tr><td>2.5</td><td>30 </td></tr>\n",
       "\t<tr><td>1.9</td><td>24 </td></tr>\n",
       "\t<tr><td>6.1</td><td>67 </td></tr>\n",
       "\t<tr><td>7.4</td><td>69 </td></tr>\n",
       "\t<tr><td>2.7</td><td>30 </td></tr>\n",
       "\t<tr><td>4.8</td><td>54 </td></tr>\n",
       "\t<tr><td>3.8</td><td>35 </td></tr>\n",
       "\t<tr><td>6.9</td><td>76 </td></tr>\n",
       "\t<tr><td>7.8</td><td>86 </td></tr>\n",
       "</tbody>\n",
       "</table>\n"
      ],
      "text/latex": [
       "\\begin{tabular}{r|ll}\n",
       " Hours & Scores\\\\\n",
       "\\hline\n",
       "\t 2.5 & 21 \\\\\n",
       "\t 5.1 & 47 \\\\\n",
       "\t 3.2 & 27 \\\\\n",
       "\t 8.5 & 75 \\\\\n",
       "\t 3.5 & 30 \\\\\n",
       "\t 1.5 & 20 \\\\\n",
       "\t 9.2 & 88 \\\\\n",
       "\t 5.5 & 60 \\\\\n",
       "\t 8.3 & 81 \\\\\n",
       "\t 2.7 & 25 \\\\\n",
       "\t 7.7 & 85 \\\\\n",
       "\t 5.9 & 62 \\\\\n",
       "\t 4.5 & 41 \\\\\n",
       "\t 3.3 & 42 \\\\\n",
       "\t 1.1 & 17 \\\\\n",
       "\t 8.9 & 95 \\\\\n",
       "\t 2.5 & 30 \\\\\n",
       "\t 1.9 & 24 \\\\\n",
       "\t 6.1 & 67 \\\\\n",
       "\t 7.4 & 69 \\\\\n",
       "\t 2.7 & 30 \\\\\n",
       "\t 4.8 & 54 \\\\\n",
       "\t 3.8 & 35 \\\\\n",
       "\t 6.9 & 76 \\\\\n",
       "\t 7.8 & 86 \\\\\n",
       "\\end{tabular}\n"
      ],
      "text/markdown": [
       "\n",
       "| Hours | Scores |\n",
       "|---|---|\n",
       "| 2.5 | 21  |\n",
       "| 5.1 | 47  |\n",
       "| 3.2 | 27  |\n",
       "| 8.5 | 75  |\n",
       "| 3.5 | 30  |\n",
       "| 1.5 | 20  |\n",
       "| 9.2 | 88  |\n",
       "| 5.5 | 60  |\n",
       "| 8.3 | 81  |\n",
       "| 2.7 | 25  |\n",
       "| 7.7 | 85  |\n",
       "| 5.9 | 62  |\n",
       "| 4.5 | 41  |\n",
       "| 3.3 | 42  |\n",
       "| 1.1 | 17  |\n",
       "| 8.9 | 95  |\n",
       "| 2.5 | 30  |\n",
       "| 1.9 | 24  |\n",
       "| 6.1 | 67  |\n",
       "| 7.4 | 69  |\n",
       "| 2.7 | 30  |\n",
       "| 4.8 | 54  |\n",
       "| 3.8 | 35  |\n",
       "| 6.9 | 76  |\n",
       "| 7.8 | 86  |\n",
       "\n"
      ],
      "text/plain": [
       "   Hours Scores\n",
       "1  2.5   21    \n",
       "2  5.1   47    \n",
       "3  3.2   27    \n",
       "4  8.5   75    \n",
       "5  3.5   30    \n",
       "6  1.5   20    \n",
       "7  9.2   88    \n",
       "8  5.5   60    \n",
       "9  8.3   81    \n",
       "10 2.7   25    \n",
       "11 7.7   85    \n",
       "12 5.9   62    \n",
       "13 4.5   41    \n",
       "14 3.3   42    \n",
       "15 1.1   17    \n",
       "16 8.9   95    \n",
       "17 2.5   30    \n",
       "18 1.9   24    \n",
       "19 6.1   67    \n",
       "20 7.4   69    \n",
       "21 2.7   30    \n",
       "22 4.8   54    \n",
       "23 3.8   35    \n",
       "24 6.9   76    \n",
       "25 7.8   86    "
      ]
     },
     "metadata": {},
     "output_type": "display_data"
    }
   ],
   "source": [
    "# View the dataset\n",
    "head(student,25)"
   ]
  },
  {
   "cell_type": "code",
   "execution_count": 112,
   "id": "capital-folder",
   "metadata": {},
   "outputs": [
    {
     "data": {
      "text/html": [
       "<dl class=dl-horizontal>\n",
       "\t<dt>Hours</dt>\n",
       "\t\t<dd>0</dd>\n",
       "\t<dt>Scores</dt>\n",
       "\t\t<dd>0</dd>\n",
       "</dl>\n"
      ],
      "text/latex": [
       "\\begin{description*}\n",
       "\\item[Hours] 0\n",
       "\\item[Scores] 0\n",
       "\\end{description*}\n"
      ],
      "text/markdown": [
       "Hours\n",
       ":   0Scores\n",
       ":   0\n",
       "\n"
      ],
      "text/plain": [
       " Hours Scores \n",
       "     0      0 "
      ]
     },
     "metadata": {},
     "output_type": "display_data"
    }
   ],
   "source": [
    "# To check if there are any missing values in the dataset\n",
    "colSums(is.na(student))"
   ]
  },
  {
   "cell_type": "code",
   "execution_count": 113,
   "id": "competent-clerk",
   "metadata": {},
   "outputs": [
    {
     "data": {
      "text/plain": [
       "     Hours           Scores     \n",
       " Min.   :1.100   Min.   :17.00  \n",
       " 1st Qu.:2.700   1st Qu.:30.00  \n",
       " Median :4.800   Median :47.00  \n",
       " Mean   :5.012   Mean   :51.48  \n",
       " 3rd Qu.:7.400   3rd Qu.:75.00  \n",
       " Max.   :9.200   Max.   :95.00  "
      ]
     },
     "metadata": {},
     "output_type": "display_data"
    }
   ],
   "source": [
    "# As there is no missing data , no cleaning of dataset is required.\n",
    "# let us see the statistics of data\n",
    "summary(student)"
   ]
  },
  {
   "cell_type": "code",
   "execution_count": 114,
   "id": "analyzed-declaration",
   "metadata": {},
   "outputs": [
    {
     "data": {
      "image/png": "[encoded data removed]",
      "text/plain": [
       "plot without title"
      ]
     },
     "metadata": {},
     "output_type": "display_data"
    }
   ],
   "source": [
    "# Let us plot the data to find a relationship between the variables in dataset\n",
    "ggplot(student, aes(x = Hours, y = Scores)) + geom_point(size=3,color=\"blue\") + labs(title=\"Scores based on Hours\",\n",
    "       x= \"Hours Studied\", y = \"Percentage Score\") + scale_y_continuous()"
   ]
  },
  {
   "cell_type": "code",
   "execution_count": 115,
   "id": "about-performance",
   "metadata": {},
   "outputs": [
    {
     "data": {
      "text/html": [
       "<table>\n",
       "<thead><tr><th scope=col>cor(Hours, Scores)</th></tr></thead>\n",
       "<tbody>\n",
       "\t<tr><td>0.9761907</td></tr>\n",
       "</tbody>\n",
       "</table>\n"
      ],
      "text/latex": [
       "\\begin{tabular}{r|l}\n",
       " cor(Hours, Scores)\\\\\n",
       "\\hline\n",
       "\t 0.9761907\\\\\n",
       "\\end{tabular}\n"
      ],
      "text/markdown": [
       "\n",
       "| cor(Hours, Scores) |\n",
       "|---|\n",
       "| 0.9761907 |\n",
       "\n"
      ],
      "text/plain": [
       "  cor(Hours, Scores)\n",
       "1 0.9761907         "
      ]
     },
     "metadata": {},
     "output_type": "display_data"
    }
   ],
   "source": [
    "# From the graph above, we can clearly see that there is a positive linear relation between the number of hours studied and percentage of score\n",
    "# Let us check how strongly are they correlated\n",
    "summarize(student,cor(Hours,Scores))"
   ]
  },
  {
   "cell_type": "markdown",
   "id": "identified-latino",
   "metadata": {},
   "source": [
    "# Applying Linear Regression"
   ]
  },
  {
   "cell_type": "markdown",
   "id": "cosmetic-domestic",
   "metadata": {},
   "source": [
    "First we need to split the dataset into training and testing sets"
   ]
  },
  {
   "cell_type": "code",
   "execution_count": 127,
   "id": "million-watch",
   "metadata": {},
   "outputs": [
    {
     "data": {
      "text/html": [
       "19"
      ],
      "text/latex": [
       "19"
      ],
      "text/markdown": [
       "19"
      ],
      "text/plain": [
       "[1] 19"
      ]
     },
     "metadata": {},
     "output_type": "display_data"
    },
    {
     "data": {
      "text/html": [
       "6"
      ],
      "text/latex": [
       "6"
      ],
      "text/markdown": [
       "6"
      ],
      "text/plain": [
       "[1] 6"
      ]
     },
     "metadata": {},
     "output_type": "display_data"
    }
   ],
   "source": [
    "n <- nrow(student)\n",
    "target <- round(.75 * n)\n",
    "\n",
    "# gp is vector of uniform random numbers\n",
    "\n",
    "gp <- runif(n)\n",
    "train <- student[gp<0.75,]\n",
    "test <- student[gp>=0.75,]\n",
    "\n",
    "# check no. of rows after splitting\n",
    "nrow(train)\n",
    "nrow(test)"
   ]
  },
  {
   "cell_type": "code",
   "execution_count": 128,
   "id": "breeding-place",
   "metadata": {
    "scrolled": false
   },
   "outputs": [
    {
     "data": {
      "text/html": [
       "<table>\n",
       "<thead><tr><th></th><th scope=col>Hours</th><th scope=col>Scores</th></tr></thead>\n",
       "<tbody>\n",
       "\t<tr><th scope=row>1</th><td>2.5</td><td>21 </td></tr>\n",
       "\t<tr><th scope=row>2</th><td>5.1</td><td>47 </td></tr>\n",
       "\t<tr><th scope=row>3</th><td>3.2</td><td>27 </td></tr>\n",
       "\t<tr><th scope=row>4</th><td>8.5</td><td>75 </td></tr>\n",
       "\t<tr><th scope=row>5</th><td>3.5</td><td>30 </td></tr>\n",
       "\t<tr><th scope=row>8</th><td>5.5</td><td>60 </td></tr>\n",
       "</tbody>\n",
       "</table>\n"
      ],
      "text/latex": [
       "\\begin{tabular}{r|ll}\n",
       "  & Hours & Scores\\\\\n",
       "\\hline\n",
       "\t1 & 2.5 & 21 \\\\\n",
       "\t2 & 5.1 & 47 \\\\\n",
       "\t3 & 3.2 & 27 \\\\\n",
       "\t4 & 8.5 & 75 \\\\\n",
       "\t5 & 3.5 & 30 \\\\\n",
       "\t8 & 5.5 & 60 \\\\\n",
       "\\end{tabular}\n"
      ],
      "text/markdown": [
       "\n",
       "| <!--/--> | Hours | Scores |\n",
       "|---|---|---|\n",
       "| 1 | 2.5 | 21  |\n",
       "| 2 | 5.1 | 47  |\n",
       "| 3 | 3.2 | 27  |\n",
       "| 4 | 8.5 | 75  |\n",
       "| 5 | 3.5 | 30  |\n",
       "| 8 | 5.5 | 60  |\n",
       "\n"
      ],
      "text/plain": [
       "  Hours Scores\n",
       "1 2.5   21    \n",
       "2 5.1   47    \n",
       "3 3.2   27    \n",
       "4 8.5   75    \n",
       "5 3.5   30    \n",
       "8 5.5   60    "
      ]
     },
     "metadata": {},
     "output_type": "display_data"
    }
   ],
   "source": [
    "head(train)"
   ]
  },
  {
   "cell_type": "code",
   "execution_count": 129,
   "id": "stable-witch",
   "metadata": {
    "scrolled": false
   },
   "outputs": [
    {
     "data": {
      "text/html": [
       "<table>\n",
       "<thead><tr><th></th><th scope=col>Hours</th><th scope=col>Scores</th></tr></thead>\n",
       "<tbody>\n",
       "\t<tr><th scope=row>6</th><td>1.5</td><td>20 </td></tr>\n",
       "\t<tr><th scope=row>7</th><td>9.2</td><td>88 </td></tr>\n",
       "\t<tr><th scope=row>14</th><td>3.3</td><td>42 </td></tr>\n",
       "\t<tr><th scope=row>16</th><td>8.9</td><td>95 </td></tr>\n",
       "\t<tr><th scope=row>19</th><td>6.1</td><td>67 </td></tr>\n",
       "\t<tr><th scope=row>24</th><td>6.9</td><td>76 </td></tr>\n",
       "</tbody>\n",
       "</table>\n"
      ],
      "text/latex": [
       "\\begin{tabular}{r|ll}\n",
       "  & Hours & Scores\\\\\n",
       "\\hline\n",
       "\t6 & 1.5 & 20 \\\\\n",
       "\t7 & 9.2 & 88 \\\\\n",
       "\t14 & 3.3 & 42 \\\\\n",
       "\t16 & 8.9 & 95 \\\\\n",
       "\t19 & 6.1 & 67 \\\\\n",
       "\t24 & 6.9 & 76 \\\\\n",
       "\\end{tabular}\n"
      ],
      "text/markdown": [
       "\n",
       "| <!--/--> | Hours | Scores |\n",
       "|---|---|---|\n",
       "| 6 | 1.5 | 20  |\n",
       "| 7 | 9.2 | 88  |\n",
       "| 14 | 3.3 | 42  |\n",
       "| 16 | 8.9 | 95  |\n",
       "| 19 | 6.1 | 67  |\n",
       "| 24 | 6.9 | 76  |\n",
       "\n"
      ],
      "text/plain": [
       "   Hours Scores\n",
       "6  1.5   20    \n",
       "7  9.2   88    \n",
       "14 3.3   42    \n",
       "16 8.9   95    \n",
       "19 6.1   67    \n",
       "24 6.9   76    "
      ]
     },
     "metadata": {},
     "output_type": "display_data"
    }
   ],
   "source": [
    "head(test)"
   ]
  },
  {
   "cell_type": "code",
   "execution_count": 130,
   "id": "pointed-prairie",
   "metadata": {
    "scrolled": false
   },
   "outputs": [
    {
     "data": {
      "text/plain": [
       "\n",
       "Call:\n",
       "lm(formula = Scores ~ Hours, data = train)\n",
       "\n",
       "Residuals:\n",
       "   Min     1Q Median     3Q    Max \n",
       "-9.257 -4.433 -1.310  4.467  8.557 \n",
       "\n",
       "Coefficients:\n",
       "            Estimate Std. Error t value Pr(>|t|)    \n",
       "(Intercept)   1.5103     2.9254   0.516    0.612    \n",
       "Hours         9.7349     0.5596  17.396 2.89e-12 ***\n",
       "---\n",
       "Signif. codes:  0 '***' 0.001 '**' 0.01 '*' 0.05 '.' 0.1 ' ' 1\n",
       "\n",
       "Residual standard error: 5.556 on 17 degrees of freedom\n",
       "Multiple R-squared:  0.9468,\tAdjusted R-squared:  0.9437 \n",
       "F-statistic: 302.6 on 1 and 17 DF,  p-value: 2.886e-12\n"
      ]
     },
     "metadata": {},
     "output_type": "display_data"
    }
   ],
   "source": [
    "# Now we will train our dataset\n",
    "model <- lm(Scores ~ Hours, data = train)\n",
    "summary(model)"
   ]
  },
  {
   "cell_type": "markdown",
   "id": "failing-anime",
   "metadata": {},
   "source": [
    "# Making Predictions"
   ]
  },
  {
   "cell_type": "code",
   "execution_count": 131,
   "id": "optical-civilization",
   "metadata": {},
   "outputs": [
    {
     "data": {
      "text/html": [
       "<table>\n",
       "<thead><tr><th scope=col>Hours</th><th scope=col>Scores</th><th scope=col>Predicted_Scores</th></tr></thead>\n",
       "<tbody>\n",
       "\t<tr><td>2.5     </td><td>21      </td><td>25.84767</td></tr>\n",
       "\t<tr><td>5.1     </td><td>47      </td><td>51.15853</td></tr>\n",
       "\t<tr><td>3.2     </td><td>27      </td><td>32.66214</td></tr>\n",
       "\t<tr><td>8.5     </td><td>75      </td><td>84.25734</td></tr>\n",
       "\t<tr><td>3.5     </td><td>30      </td><td>35.58262</td></tr>\n",
       "\t<tr><td>5.5     </td><td>60      </td><td>55.05251</td></tr>\n",
       "\t<tr><td>8.3     </td><td>81      </td><td>82.31036</td></tr>\n",
       "\t<tr><td>2.7     </td><td>25      </td><td>27.79466</td></tr>\n",
       "\t<tr><td>7.7     </td><td>85      </td><td>76.46939</td></tr>\n",
       "\t<tr><td>5.9     </td><td>62      </td><td>58.94649</td></tr>\n",
       "\t<tr><td>4.5     </td><td>41      </td><td>45.31756</td></tr>\n",
       "\t<tr><td>1.1     </td><td>17      </td><td>12.21875</td></tr>\n",
       "\t<tr><td>2.5     </td><td>30      </td><td>25.84767</td></tr>\n",
       "\t<tr><td>1.9     </td><td>24      </td><td>20.00671</td></tr>\n",
       "\t<tr><td>7.4     </td><td>69      </td><td>73.54890</td></tr>\n",
       "\t<tr><td>2.7     </td><td>30      </td><td>27.79466</td></tr>\n",
       "\t<tr><td>4.8     </td><td>54      </td><td>48.23805</td></tr>\n",
       "\t<tr><td>3.8     </td><td>35      </td><td>38.50310</td></tr>\n",
       "\t<tr><td>7.8     </td><td>86      </td><td>77.44288</td></tr>\n",
       "</tbody>\n",
       "</table>\n"
      ],
      "text/latex": [
       "\\begin{tabular}{r|lll}\n",
       " Hours & Scores & Predicted\\_Scores\\\\\n",
       "\\hline\n",
       "\t 2.5      & 21       & 25.84767\\\\\n",
       "\t 5.1      & 47       & 51.15853\\\\\n",
       "\t 3.2      & 27       & 32.66214\\\\\n",
       "\t 8.5      & 75       & 84.25734\\\\\n",
       "\t 3.5      & 30       & 35.58262\\\\\n",
       "\t 5.5      & 60       & 55.05251\\\\\n",
       "\t 8.3      & 81       & 82.31036\\\\\n",
       "\t 2.7      & 25       & 27.79466\\\\\n",
       "\t 7.7      & 85       & 76.46939\\\\\n",
       "\t 5.9      & 62       & 58.94649\\\\\n",
       "\t 4.5      & 41       & 45.31756\\\\\n",
       "\t 1.1      & 17       & 12.21875\\\\\n",
       "\t 2.5      & 30       & 25.84767\\\\\n",
       "\t 1.9      & 24       & 20.00671\\\\\n",
       "\t 7.4      & 69       & 73.54890\\\\\n",
       "\t 2.7      & 30       & 27.79466\\\\\n",
       "\t 4.8      & 54       & 48.23805\\\\\n",
       "\t 3.8      & 35       & 38.50310\\\\\n",
       "\t 7.8      & 86       & 77.44288\\\\\n",
       "\\end{tabular}\n"
      ],
      "text/markdown": [
       "\n",
       "| Hours | Scores | Predicted_Scores |\n",
       "|---|---|---|\n",
       "| 2.5      | 21       | 25.84767 |\n",
       "| 5.1      | 47       | 51.15853 |\n",
       "| 3.2      | 27       | 32.66214 |\n",
       "| 8.5      | 75       | 84.25734 |\n",
       "| 3.5      | 30       | 35.58262 |\n",
       "| 5.5      | 60       | 55.05251 |\n",
       "| 8.3      | 81       | 82.31036 |\n",
       "| 2.7      | 25       | 27.79466 |\n",
       "| 7.7      | 85       | 76.46939 |\n",
       "| 5.9      | 62       | 58.94649 |\n",
       "| 4.5      | 41       | 45.31756 |\n",
       "| 1.1      | 17       | 12.21875 |\n",
       "| 2.5      | 30       | 25.84767 |\n",
       "| 1.9      | 24       | 20.00671 |\n",
       "| 7.4      | 69       | 73.54890 |\n",
       "| 2.7      | 30       | 27.79466 |\n",
       "| 4.8      | 54       | 48.23805 |\n",
       "| 3.8      | 35       | 38.50310 |\n",
       "| 7.8      | 86       | 77.44288 |\n",
       "\n"
      ],
      "text/plain": [
       "   Hours Scores Predicted_Scores\n",
       "1  2.5   21     25.84767        \n",
       "2  5.1   47     51.15853        \n",
       "3  3.2   27     32.66214        \n",
       "4  8.5   75     84.25734        \n",
       "5  3.5   30     35.58262        \n",
       "6  5.5   60     55.05251        \n",
       "7  8.3   81     82.31036        \n",
       "8  2.7   25     27.79466        \n",
       "9  7.7   85     76.46939        \n",
       "10 5.9   62     58.94649        \n",
       "11 4.5   41     45.31756        \n",
       "12 1.1   17     12.21875        \n",
       "13 2.5   30     25.84767        \n",
       "14 1.9   24     20.00671        \n",
       "15 7.4   69     73.54890        \n",
       "16 2.7   30     27.79466        \n",
       "17 4.8   54     48.23805        \n",
       "18 3.8   35     38.50310        \n",
       "19 7.8   86     77.44288        "
      ]
     },
     "metadata": {},
     "output_type": "display_data"
    }
   ],
   "source": [
    "# Predicting the scores based on our model\n",
    "Predict_scores <- predict(model,train)\n",
    "\n",
    "# Comparing with actual scores\n",
    "train %>%\n",
    "mutate(Predicted_Scores = Predict_scores)\n"
   ]
  },
  {
   "cell_type": "code",
   "execution_count": 132,
   "id": "exposed-respect",
   "metadata": {},
   "outputs": [
    {
     "data": {
      "text/html": [
       "<table>\n",
       "<thead><tr><th scope=col>Hours</th><th scope=col>Scores</th><th scope=col>Predicted_Scores</th></tr></thead>\n",
       "<tbody>\n",
       "\t<tr><td>1.5     </td><td>20      </td><td>16.11273</td></tr>\n",
       "\t<tr><td>9.2     </td><td>88      </td><td>91.07181</td></tr>\n",
       "\t<tr><td>3.3     </td><td>42      </td><td>33.63563</td></tr>\n",
       "\t<tr><td>8.9     </td><td>95      </td><td>88.15132</td></tr>\n",
       "\t<tr><td>6.1     </td><td>67      </td><td>60.89348</td></tr>\n",
       "\t<tr><td>6.9     </td><td>76      </td><td>68.68143</td></tr>\n",
       "</tbody>\n",
       "</table>\n"
      ],
      "text/latex": [
       "\\begin{tabular}{r|lll}\n",
       " Hours & Scores & Predicted\\_Scores\\\\\n",
       "\\hline\n",
       "\t 1.5      & 20       & 16.11273\\\\\n",
       "\t 9.2      & 88       & 91.07181\\\\\n",
       "\t 3.3      & 42       & 33.63563\\\\\n",
       "\t 8.9      & 95       & 88.15132\\\\\n",
       "\t 6.1      & 67       & 60.89348\\\\\n",
       "\t 6.9      & 76       & 68.68143\\\\\n",
       "\\end{tabular}\n"
      ],
      "text/markdown": [
       "\n",
       "| Hours | Scores | Predicted_Scores |\n",
       "|---|---|---|\n",
       "| 1.5      | 20       | 16.11273 |\n",
       "| 9.2      | 88       | 91.07181 |\n",
       "| 3.3      | 42       | 33.63563 |\n",
       "| 8.9      | 95       | 88.15132 |\n",
       "| 6.1      | 67       | 60.89348 |\n",
       "| 6.9      | 76       | 68.68143 |\n",
       "\n"
      ],
      "text/plain": [
       "  Hours Scores Predicted_Scores\n",
       "1 1.5   20     16.11273        \n",
       "2 9.2   88     91.07181        \n",
       "3 3.3   42     33.63563        \n",
       "4 8.9   95     88.15132        \n",
       "5 6.1   67     60.89348        \n",
       "6 6.9   76     68.68143        "
      ]
     },
     "metadata": {},
     "output_type": "display_data"
    }
   ],
   "source": [
    "# Performance of this model on test data\n",
    "Predict_scores <- predict(model,test)\n",
    "\n",
    "# Comparing with actual scores\n",
    "test %>%\n",
    "mutate(Predicted_Scores = Predict_scores)"
   ]
  },
  {
   "cell_type": "code",
   "execution_count": 133,
   "id": "advisory-modification",
   "metadata": {},
   "outputs": [
    {
     "data": {
      "image/png": "[encoded data removed]",
      "text/plain": [
       "plot without title"
      ]
     },
     "metadata": {},
     "output_type": "display_data"
    }
   ],
   "source": [
    "# Let us plot regression line to validate that our model fits well for the dataset\n",
    "ggplot(student, aes(x = Hours, y = Scores)) + geom_point(size=3,color=\"blue\") + geom_smooth(method = \"lm\",aes(color = \"Red\"),\n",
    "se = FALSE)+ \n",
    "labs(title=\"Visualization of model : Scores based on no. of Hours\", x= \"Hours Studied\", y = \"Percentage Score\") + \n",
    "scale_y_continuous()"
   ]
  },
  {
   "cell_type": "code",
   "execution_count": 134,
   "id": "developmental-deployment",
   "metadata": {},
   "outputs": [
    {
     "data": {
      "text/html": [
       "<table>\n",
       "<thead><tr><th scope=col>Hours</th></tr></thead>\n",
       "<tbody>\n",
       "\t<tr><td>9.25</td></tr>\n",
       "</tbody>\n",
       "</table>\n"
      ],
      "text/latex": [
       "\\begin{tabular}{r|l}\n",
       " Hours\\\\\n",
       "\\hline\n",
       "\t 9.25\\\\\n",
       "\\end{tabular}\n"
      ],
      "text/markdown": [
       "\n",
       "| Hours |\n",
       "|---|\n",
       "| 9.25 |\n",
       "\n"
      ],
      "text/plain": [
       "  Hours\n",
       "1 9.25 "
      ]
     },
     "metadata": {},
     "output_type": "display_data"
    }
   ],
   "source": [
    "# We need to find percentage of student if he studies 9.25 hours a day\n",
    "test.score <- data.frame(Hours = 9.25)\n",
    "test.score"
   ]
  },
  {
   "cell_type": "code",
   "execution_count": 135,
   "id": "ancient-malta",
   "metadata": {},
   "outputs": [
    {
     "data": {
      "text/html": [
       "<table>\n",
       "<thead><tr><th scope=col>Hours</th><th scope=col>Predicted_Score</th></tr></thead>\n",
       "<tbody>\n",
       "\t<tr><td>9.25    </td><td>91.55855</td></tr>\n",
       "</tbody>\n",
       "</table>\n"
      ],
      "text/latex": [
       "\\begin{tabular}{r|ll}\n",
       " Hours & Predicted\\_Score\\\\\n",
       "\\hline\n",
       "\t 9.25     & 91.55855\\\\\n",
       "\\end{tabular}\n"
      ],
      "text/markdown": [
       "\n",
       "| Hours | Predicted_Score |\n",
       "|---|---|\n",
       "| 9.25     | 91.55855 |\n",
       "\n"
      ],
      "text/plain": [
       "  Hours Predicted_Score\n",
       "1 9.25  91.55855       "
      ]
     },
     "metadata": {},
     "output_type": "display_data"
    }
   ],
   "source": [
    "result <- predict(model, test.score)\n",
    "\n",
    "test.score %>%\n",
    "mutate(Predicted_Score = result)"
   ]
  },
  {
   "cell_type": "markdown",
   "id": "solar-miracle",
   "metadata": {},
   "source": [
    "According to our model, if a student studies 9.25 hours a day , he will score 93.53 % approximately."
   ]
  },
  {
   "cell_type": "markdown",
   "id": "instructional-fighter",
   "metadata": {},
   "source": [
    "# Evaluating the model"
   ]
  },
  {
   "cell_type": "markdown",
   "id": "broadband-warren",
   "metadata": {},
   "source": [
    "The final step is to evaluate the performance of algorithm. This step is particularly important to compare how well different algorithms perform on a particular dataset. For simplicity here, we have chosen the mean square error."
   ]
  },
  {
   "cell_type": "code",
   "execution_count": 137,
   "id": "activated-brush",
   "metadata": {
    "scrolled": true
   },
   "outputs": [
    {
     "name": "stdout",
     "output_type": "stream",
     "text": [
      "[1] 6.221803\n"
     ]
    }
   ],
   "source": [
    "library(Metrics) \n",
    "result = rmse(test$Scores, Predict_scores)\n",
    "print(result)"
   ]
  },
  {
   "cell_type": "markdown",
   "id": "hearing-aquarium",
   "metadata": {},
   "source": [
    "Root mean square error for this model is 6.22"
   ]
  }
 ],
 "metadata": {
  "kernelspec": {
   "display_name": "R",
   "language": "R",
   "name": "ir"
  },
  "language_info": {
   "codemirror_mode": "r",
   "file_extension": ".r",
   "mimetype": "text/x-r-source",
   "name": "R",
   "pygments_lexer": "r",
   "version": "3.6.1"
  }
 },
 "nbformat": 4,
 "nbformat_minor": 5
}
